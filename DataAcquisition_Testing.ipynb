{
 "cells": [
  {
   "metadata": {},
   "cell_type": "markdown",
   "source": [
    "# Datasets:\n",
    "\n",
    "## Financial Statements\n",
    "\n",
    "The financial dataset was obtained from SEC Edgar financial statement data set, which includes the company balance sheet, income statement and statement of cash flows. The data is provided quarterly since January 2009 to June 2024, which is the most recent dataset as of the writing of this proposal. SEC (January 2009 - June 2024). The SEC provides this data set using eXtensible Business Reporting Language (XBRL) which divides the dataset amongst many disjoint tables SEC (2024). In order to provide the Large Language model with a single set of tables we will use the following helper tool to process the dataset into a single data frame HansjoergW (2024).From this statement we will then use the following formulas to calculate a comprehensive set of financial ratios that will be provided. From this we will be able to create a dataset similar to that used in Kim et al. (2024).\n",
    "\n",
    "Github Repo: https://github.com/HansjoergW/sec-fincancial-statement-data-set/tree/main\n",
    "\n"
   ],
   "id": "6a3b4adec3875d32"
  },
  {
   "metadata": {},
   "cell_type": "markdown",
   "source": "# Initial Setup",
   "id": "5db14280dbadfd03"
  },
  {
   "metadata": {},
   "cell_type": "code",
   "source": [
    "# to ensure that the logging statements are shown in juypter output, run this cell\n",
    "import logging\n",
    "import pandas as pd\n",
    "\n",
    "logger = logging.getLogger()\n",
    "logger.setLevel(logging.INFO)\n",
    "\n",
    "# ensure that all columns are shown and that colum content is not cut\n",
    "pd.set_option('display.max_columns', None)\n",
    "pd.set_option('display.max_colwidth', None)\n",
    "pd.set_option('display.width',1000)"
   ],
   "id": "1199614b687d765c",
   "outputs": [],
   "execution_count": null
  },
  {
   "metadata": {},
   "cell_type": "markdown",
   "source": [
    "# Configuration\n",
    "\n",
    "In order to be used, the library needs to know where to store the compressed files from the Financial Statement Data Sets and where to store the sqlite database file. This is configured in a configuration file.\n",
    "\n",
    "If you don't provide a config file, one will be created the first time you use the api. The configuration file will be created inside your home directory. You can then change the content of it or directly start with the downloading of the data.\n",
    "\n",
    "[DEFAULT]\n",
    "downloaddirectory = <userhome>/secfsdstools/data/dld\n",
    "parquetdirectory = <userhome>/secfsdools/data/parquet\n",
    "dbdirectory = <userhome>/secfsdstools/data/db\n",
    "useragentemail = your.email@goeshere.com\n",
    "\n",
    "The following tasks will be executed:\n",
    "\n",
    "All currently available zip-files are downloaded form sec.gov (these are over 50 files that will need over 2 GB of space on your local drive)\n",
    "All the zipfiles are transformed and stored as parquet files. Per default, the zipfile is deleted afterwards. If you want to keep the zip files, set the parameter 'KeepZipFiles' in the config file to True.\n",
    "An index inside a sqlite db file is created\n",
    "This may take a few minutes.\n",
    "\n",
    "If you don't call update \"manually\", then the first time you call a function from the library, a download will be triggered.\n",
    "\n",
    "Moreover, at most once a day, it is checked if there is a new zip file available on sec.gov. If there is, a download will be started automatically. If you don't want 'auto-update', set the 'AutoUpdate' in your config file to False. The new quarter zip files are available by the beginning of every quarter (January, April, July, October), hence, yo have to run the update() at the beginning of every quarter to get the data for the reprots from last quarter.\n",
    "\n",
    "Note: the first time downloading data will take a couple of minutes, since over 2 GB of data will be downloaded and converted into parquet format.\n",
    "\n",
    "Note: If you plan to use Jupyter, make sure that you configure the directories at a location where your Jupyter process has access. The used default directory (your user home directory) will work."
   ],
   "id": "d0b08aa3596b1dce"
  },
  {
   "cell_type": "code",
   "id": "initial_id",
   "metadata": {
    "collapsed": true
   },
   "source": [
    "from secfsdstools.update import update\n",
    "\n",
    "update()"
   ],
   "outputs": [],
   "execution_count": null
  },
  {
   "metadata": {},
   "cell_type": "markdown",
   "source": [
    "# Index Search\n",
    "\n",
    "Determine Central Index Key (CIK) given a Company Name. Then use CIK to obtain list of all reports, then use list of all reports to obtain Accession Number (ADSH) to obtain information about specific report."
   ],
   "id": "aa224431e3f06d1a"
  },
  {
   "metadata": {
    "ExecuteTime": {
     "end_time": "2024-10-01T16:16:38.102629Z",
     "start_time": "2024-10-01T16:16:37.749535Z"
    }
   },
   "cell_type": "code",
   "source": [
    "from secfsdstools.c_index.searching import IndexSearch\n",
    "\n",
    "index_search = IndexSearch.get_index_search()\n",
    "results = index_search.find_company_by_name(\"APPLE INC\")\n",
    "results"
   ],
   "id": "2b35ec92d1348139",
   "outputs": [
    {
     "name": "stderr",
     "output_type": "stream",
     "text": [
      "2024-10-01 12:16:37,751 [INFO] configmgt  reading configuration from /Users/joseluistejada/.secfsdstools.cfg\n"
     ]
    },
    {
     "data": {
      "text/plain": [
       "        name     cik\n",
       "0  APPLE INC  320193"
      ],
      "text/html": [
       "<div>\n",
       "<style scoped>\n",
       "    .dataframe tbody tr th:only-of-type {\n",
       "        vertical-align: middle;\n",
       "    }\n",
       "\n",
       "    .dataframe tbody tr th {\n",
       "        vertical-align: top;\n",
       "    }\n",
       "\n",
       "    .dataframe thead th {\n",
       "        text-align: right;\n",
       "    }\n",
       "</style>\n",
       "<table border=\"1\" class=\"dataframe\">\n",
       "  <thead>\n",
       "    <tr style=\"text-align: right;\">\n",
       "      <th></th>\n",
       "      <th>name</th>\n",
       "      <th>cik</th>\n",
       "    </tr>\n",
       "  </thead>\n",
       "  <tbody>\n",
       "    <tr>\n",
       "      <th>0</th>\n",
       "      <td>APPLE INC</td>\n",
       "      <td>320193</td>\n",
       "    </tr>\n",
       "  </tbody>\n",
       "</table>\n",
       "</div>"
      ]
     },
     "execution_count": 29,
     "metadata": {},
     "output_type": "execute_result"
    }
   ],
   "execution_count": 29
  },
  {
   "metadata": {
    "ExecuteTime": {
     "end_time": "2024-10-01T16:07:54.352074Z",
     "start_time": "2024-10-01T16:07:54.346784Z"
    }
   },
   "cell_type": "code",
   "source": [
    "from secfsdstools.c_index.companyindexreading import CompanyIndexReader\n",
    "\n",
    "apple_cik = 320193\n",
    "apple_index_reader = CompanyIndexReader.get_company_index_reader(cik=apple_cik)"
   ],
   "id": "b62d68c7d7a777e2",
   "outputs": [
    {
     "name": "stderr",
     "output_type": "stream",
     "text": [
      "2024-10-01 12:07:54,349 [INFO] configmgt  reading configuration from /Users/joseluistejada/.secfsdstools.cfg\n"
     ]
    }
   ],
   "execution_count": 17
  },
  {
   "metadata": {
    "ExecuteTime": {
     "end_time": "2024-10-01T16:37:14.208673Z",
     "start_time": "2024-10-01T16:37:13.778578Z"
    }
   },
   "cell_type": "code",
   "source": [
    "allReportsApple = apple_index_reader.get_all_company_reports_df()\n",
    "allReportsApple"
   ],
   "id": "b5c5cfd14f72f49b",
   "outputs": [
    {
     "data": {
      "text/plain": [
       "                     adsh     cik       name     form     filed    period                                                            fullPath  originFile originFileType                                                                                               url\n",
       "0    0001140361-24-024352  320193  APPLE INC      8-K  20240503  20240430  /Users/joseluistejada/secfsdstools/data/parquet/quarter/2024q2.zip  2024q2.zip        quarter  https://www.sec.gov/Archives/edgar/data/320193/000114036124024352/0001140361-24-024352-index.htm\n",
       "1    0000320193-24-000067  320193  APPLE INC      8-K  20240502  20240430  /Users/joseluistejada/secfsdstools/data/parquet/quarter/2024q2.zip  2024q2.zip        quarter  https://www.sec.gov/Archives/edgar/data/320193/000032019324000067/0000320193-24-000067-index.htm\n",
       "2    0000320193-24-000069  320193  APPLE INC     10-Q  20240503  20240331  /Users/joseluistejada/secfsdstools/data/parquet/quarter/2024q2.zip  2024q2.zip        quarter  https://www.sec.gov/Archives/edgar/data/320193/000032019324000069/0000320193-24-000069-index.htm\n",
       "3    0001140361-24-010155  320193  APPLE INC      8-K  20240228  20240229  /Users/joseluistejada/secfsdstools/data/parquet/quarter/2024q1.zip  2024q1.zip        quarter  https://www.sec.gov/Archives/edgar/data/320193/000114036124010155/0001140361-24-010155-index.htm\n",
       "4    0001308179-24-000010  320193  APPLE INC  DEF 14A  20240111  20240229  /Users/joseluistejada/secfsdstools/data/parquet/quarter/2024q1.zip  2024q1.zip        quarter  https://www.sec.gov/Archives/edgar/data/320193/000130817924000010/0001308179-24-000010-index.htm\n",
       "..                    ...     ...        ...      ...       ...       ...                                                                 ...         ...            ...                                                                                               ...\n",
       "99   0001193125-10-088957  320193  APPLE INC     10-Q  20100421  20100331  /Users/joseluistejada/secfsdstools/data/parquet/quarter/2010q2.zip  2010q2.zip        quarter  https://www.sec.gov/Archives/edgar/data/320193/000119312510088957/0001193125-10-088957-index.htm\n",
       "100  0001193125-10-012085  320193  APPLE INC     10-Q  20100125  20091231  /Users/joseluistejada/secfsdstools/data/parquet/quarter/2010q1.zip  2010q1.zip        quarter  https://www.sec.gov/Archives/edgar/data/320193/000119312510012085/0001193125-10-012085-index.htm\n",
       "101  0001193125-10-012091  320193  APPLE INC   10-K/A  20100125  20090930  /Users/joseluistejada/secfsdstools/data/parquet/quarter/2010q1.zip  2010q1.zip        quarter  https://www.sec.gov/Archives/edgar/data/320193/000119312510012091/0001193125-10-012091-index.htm\n",
       "102  0001193125-09-214859  320193  APPLE INC     10-K  20091027  20090930  /Users/joseluistejada/secfsdstools/data/parquet/quarter/2009q4.zip  2009q4.zip        quarter  https://www.sec.gov/Archives/edgar/data/320193/000119312509214859/0001193125-09-214859-index.htm\n",
       "103  0001193125-09-153165  320193  APPLE INC     10-Q  20090722  20090630  /Users/joseluistejada/secfsdstools/data/parquet/quarter/2009q3.zip  2009q3.zip        quarter  https://www.sec.gov/Archives/edgar/data/320193/000119312509153165/0001193125-09-153165-index.htm\n",
       "\n",
       "[104 rows x 10 columns]"
      ],
      "text/html": [
       "<div>\n",
       "<style scoped>\n",
       "    .dataframe tbody tr th:only-of-type {\n",
       "        vertical-align: middle;\n",
       "    }\n",
       "\n",
       "    .dataframe tbody tr th {\n",
       "        vertical-align: top;\n",
       "    }\n",
       "\n",
       "    .dataframe thead th {\n",
       "        text-align: right;\n",
       "    }\n",
       "</style>\n",
       "<table border=\"1\" class=\"dataframe\">\n",
       "  <thead>\n",
       "    <tr style=\"text-align: right;\">\n",
       "      <th></th>\n",
       "      <th>adsh</th>\n",
       "      <th>cik</th>\n",
       "      <th>name</th>\n",
       "      <th>form</th>\n",
       "      <th>filed</th>\n",
       "      <th>period</th>\n",
       "      <th>fullPath</th>\n",
       "      <th>originFile</th>\n",
       "      <th>originFileType</th>\n",
       "      <th>url</th>\n",
       "    </tr>\n",
       "  </thead>\n",
       "  <tbody>\n",
       "    <tr>\n",
       "      <th>0</th>\n",
       "      <td>0001140361-24-024352</td>\n",
       "      <td>320193</td>\n",
       "      <td>APPLE INC</td>\n",
       "      <td>8-K</td>\n",
       "      <td>20240503</td>\n",
       "      <td>20240430</td>\n",
       "      <td>/Users/joseluistejada/secfsdstools/data/parquet/quarter/2024q2.zip</td>\n",
       "      <td>2024q2.zip</td>\n",
       "      <td>quarter</td>\n",
       "      <td>https://www.sec.gov/Archives/edgar/data/320193/000114036124024352/0001140361-24-024352-index.htm</td>\n",
       "    </tr>\n",
       "    <tr>\n",
       "      <th>1</th>\n",
       "      <td>0000320193-24-000067</td>\n",
       "      <td>320193</td>\n",
       "      <td>APPLE INC</td>\n",
       "      <td>8-K</td>\n",
       "      <td>20240502</td>\n",
       "      <td>20240430</td>\n",
       "      <td>/Users/joseluistejada/secfsdstools/data/parquet/quarter/2024q2.zip</td>\n",
       "      <td>2024q2.zip</td>\n",
       "      <td>quarter</td>\n",
       "      <td>https://www.sec.gov/Archives/edgar/data/320193/000032019324000067/0000320193-24-000067-index.htm</td>\n",
       "    </tr>\n",
       "    <tr>\n",
       "      <th>2</th>\n",
       "      <td>0000320193-24-000069</td>\n",
       "      <td>320193</td>\n",
       "      <td>APPLE INC</td>\n",
       "      <td>10-Q</td>\n",
       "      <td>20240503</td>\n",
       "      <td>20240331</td>\n",
       "      <td>/Users/joseluistejada/secfsdstools/data/parquet/quarter/2024q2.zip</td>\n",
       "      <td>2024q2.zip</td>\n",
       "      <td>quarter</td>\n",
       "      <td>https://www.sec.gov/Archives/edgar/data/320193/000032019324000069/0000320193-24-000069-index.htm</td>\n",
       "    </tr>\n",
       "    <tr>\n",
       "      <th>3</th>\n",
       "      <td>0001140361-24-010155</td>\n",
       "      <td>320193</td>\n",
       "      <td>APPLE INC</td>\n",
       "      <td>8-K</td>\n",
       "      <td>20240228</td>\n",
       "      <td>20240229</td>\n",
       "      <td>/Users/joseluistejada/secfsdstools/data/parquet/quarter/2024q1.zip</td>\n",
       "      <td>2024q1.zip</td>\n",
       "      <td>quarter</td>\n",
       "      <td>https://www.sec.gov/Archives/edgar/data/320193/000114036124010155/0001140361-24-010155-index.htm</td>\n",
       "    </tr>\n",
       "    <tr>\n",
       "      <th>4</th>\n",
       "      <td>0001308179-24-000010</td>\n",
       "      <td>320193</td>\n",
       "      <td>APPLE INC</td>\n",
       "      <td>DEF 14A</td>\n",
       "      <td>20240111</td>\n",
       "      <td>20240229</td>\n",
       "      <td>/Users/joseluistejada/secfsdstools/data/parquet/quarter/2024q1.zip</td>\n",
       "      <td>2024q1.zip</td>\n",
       "      <td>quarter</td>\n",
       "      <td>https://www.sec.gov/Archives/edgar/data/320193/000130817924000010/0001308179-24-000010-index.htm</td>\n",
       "    </tr>\n",
       "    <tr>\n",
       "      <th>...</th>\n",
       "      <td>...</td>\n",
       "      <td>...</td>\n",
       "      <td>...</td>\n",
       "      <td>...</td>\n",
       "      <td>...</td>\n",
       "      <td>...</td>\n",
       "      <td>...</td>\n",
       "      <td>...</td>\n",
       "      <td>...</td>\n",
       "      <td>...</td>\n",
       "    </tr>\n",
       "    <tr>\n",
       "      <th>99</th>\n",
       "      <td>0001193125-10-088957</td>\n",
       "      <td>320193</td>\n",
       "      <td>APPLE INC</td>\n",
       "      <td>10-Q</td>\n",
       "      <td>20100421</td>\n",
       "      <td>20100331</td>\n",
       "      <td>/Users/joseluistejada/secfsdstools/data/parquet/quarter/2010q2.zip</td>\n",
       "      <td>2010q2.zip</td>\n",
       "      <td>quarter</td>\n",
       "      <td>https://www.sec.gov/Archives/edgar/data/320193/000119312510088957/0001193125-10-088957-index.htm</td>\n",
       "    </tr>\n",
       "    <tr>\n",
       "      <th>100</th>\n",
       "      <td>0001193125-10-012085</td>\n",
       "      <td>320193</td>\n",
       "      <td>APPLE INC</td>\n",
       "      <td>10-Q</td>\n",
       "      <td>20100125</td>\n",
       "      <td>20091231</td>\n",
       "      <td>/Users/joseluistejada/secfsdstools/data/parquet/quarter/2010q1.zip</td>\n",
       "      <td>2010q1.zip</td>\n",
       "      <td>quarter</td>\n",
       "      <td>https://www.sec.gov/Archives/edgar/data/320193/000119312510012085/0001193125-10-012085-index.htm</td>\n",
       "    </tr>\n",
       "    <tr>\n",
       "      <th>101</th>\n",
       "      <td>0001193125-10-012091</td>\n",
       "      <td>320193</td>\n",
       "      <td>APPLE INC</td>\n",
       "      <td>10-K/A</td>\n",
       "      <td>20100125</td>\n",
       "      <td>20090930</td>\n",
       "      <td>/Users/joseluistejada/secfsdstools/data/parquet/quarter/2010q1.zip</td>\n",
       "      <td>2010q1.zip</td>\n",
       "      <td>quarter</td>\n",
       "      <td>https://www.sec.gov/Archives/edgar/data/320193/000119312510012091/0001193125-10-012091-index.htm</td>\n",
       "    </tr>\n",
       "    <tr>\n",
       "      <th>102</th>\n",
       "      <td>0001193125-09-214859</td>\n",
       "      <td>320193</td>\n",
       "      <td>APPLE INC</td>\n",
       "      <td>10-K</td>\n",
       "      <td>20091027</td>\n",
       "      <td>20090930</td>\n",
       "      <td>/Users/joseluistejada/secfsdstools/data/parquet/quarter/2009q4.zip</td>\n",
       "      <td>2009q4.zip</td>\n",
       "      <td>quarter</td>\n",
       "      <td>https://www.sec.gov/Archives/edgar/data/320193/000119312509214859/0001193125-09-214859-index.htm</td>\n",
       "    </tr>\n",
       "    <tr>\n",
       "      <th>103</th>\n",
       "      <td>0001193125-09-153165</td>\n",
       "      <td>320193</td>\n",
       "      <td>APPLE INC</td>\n",
       "      <td>10-Q</td>\n",
       "      <td>20090722</td>\n",
       "      <td>20090630</td>\n",
       "      <td>/Users/joseluistejada/secfsdstools/data/parquet/quarter/2009q3.zip</td>\n",
       "      <td>2009q3.zip</td>\n",
       "      <td>quarter</td>\n",
       "      <td>https://www.sec.gov/Archives/edgar/data/320193/000119312509153165/0001193125-09-153165-index.htm</td>\n",
       "    </tr>\n",
       "  </tbody>\n",
       "</table>\n",
       "<p>104 rows × 10 columns</p>\n",
       "</div>"
      ]
     },
     "execution_count": 30,
     "metadata": {},
     "output_type": "execute_result"
    }
   ],
   "execution_count": 30
  },
  {
   "metadata": {},
   "cell_type": "markdown",
   "source": "## Collect single report",
   "id": "410631a94c70b404"
  },
  {
   "metadata": {
    "ExecuteTime": {
     "end_time": "2024-10-01T16:39:04.935832Z",
     "start_time": "2024-10-01T16:39:04.933498Z"
    }
   },
   "cell_type": "code",
   "source": "adsh = \"0000320193-24-000069\"",
   "id": "93cb3f040b739a3f",
   "outputs": [],
   "execution_count": 34
  },
  {
   "metadata": {
    "ExecuteTime": {
     "end_time": "2024-10-01T16:40:02.590231Z",
     "start_time": "2024-10-01T16:40:02.397154Z"
    }
   },
   "cell_type": "code",
   "source": [
    "from secfsdstools.e_collector.reportcollecting import SingleReportCollector\n",
    "from secfsdstools.e_filter.rawfiltering import ReportPeriodAndPreviousPeriodRawFilter\n",
    "from secfsdstools.e_presenter.presenting import StandardStatementPresenter\n",
    "\n",
    "# us a Collector to grab the data of the 10-K report. an filter for balancesheet information\n",
    "collector: SingleReportCollector = SingleReportCollector.get_report_by_adsh(\n",
    "      adsh=adsh,\n",
    "      stmt_filter=[\"BS\"]\n",
    ")  \n",
    "rawdatabag = collector.collect() # load the data from the disk\n",
    "\n",
    "\n",
    "bs_df = (rawdatabag\n",
    "                   # ensure only data from the period (2022) and the previous period (2021) is in the data\n",
    "                   .filter(ReportPeriodAndPreviousPeriodRawFilter())\n",
    "                   # join the the content of the pre_txt and num_txt together\n",
    "                   .join()  \n",
    "                   # format the data in the same way as it appears in the report\n",
    "                   .present(StandardStatementPresenter())) \n",
    "print(bs_df) "
   ],
   "id": "f75b27a71daeb1af",
   "outputs": [
    {
     "name": "stderr",
     "output_type": "stream",
     "text": [
      "2024-10-01 12:40:02,402 [INFO] configmgt  reading configuration from /Users/joseluistejada/.secfsdstools.cfg\n"
     ]
    },
    {
     "name": "stdout",
     "output_type": "stream",
     "text": [
      "                    adsh coreg                                              tag       version stmt  report  line     uom  negating  inpth  qrtrs_0/20240331  qrtrs_0/20230331\n",
      "0   0000320193-24-000069                  CashAndCashEquivalentsAtCarryingValue  us-gaap/2023   BS       4     3     USD         0      0      3.269500e+10               NaN\n",
      "1   0000320193-24-000069                            MarketableSecuritiesCurrent  us-gaap/2023   BS       4     4     USD         0      0      3.445500e+10               NaN\n",
      "2   0000320193-24-000069                           AccountsReceivableNetCurrent  us-gaap/2023   BS       4     5     USD         0      0      2.183700e+10               NaN\n",
      "3   0000320193-24-000069                             NontradeReceivablesCurrent  us-gaap/2023   BS       4     6     USD         0      0      1.931300e+10               NaN\n",
      "4   0000320193-24-000069                                           InventoryNet  us-gaap/2023   BS       4     7     USD         0      0      6.232000e+09               NaN\n",
      "5   0000320193-24-000069                                     OtherAssetsCurrent  us-gaap/2023   BS       4     8     USD         0      0      1.388400e+10               NaN\n",
      "6   0000320193-24-000069                                          AssetsCurrent  us-gaap/2023   BS       4     9     USD         0      0      1.284160e+11               NaN\n",
      "7   0000320193-24-000069                         MarketableSecuritiesNoncurrent  us-gaap/2023   BS       4    11     USD         0      0      9.518700e+10               NaN\n",
      "8   0000320193-24-000069                           PropertyPlantAndEquipmentNet  us-gaap/2023   BS       4    12     USD         0      0      4.354600e+10               NaN\n",
      "9   0000320193-24-000069                                  OtherAssetsNoncurrent  us-gaap/2023   BS       4    13     USD         0      0      7.026200e+10               NaN\n",
      "10  0000320193-24-000069                                       AssetsNoncurrent  us-gaap/2023   BS       4    14     USD         0      0      2.089950e+11               NaN\n",
      "11  0000320193-24-000069                                                 Assets  us-gaap/2023   BS       4    15     USD         0      0      3.374110e+11               NaN\n",
      "12  0000320193-24-000069                                 AccountsPayableCurrent  us-gaap/2023   BS       4    18     USD         0      0      4.575300e+10               NaN\n",
      "13  0000320193-24-000069                                OtherLiabilitiesCurrent  us-gaap/2023   BS       4    19     USD         0      0      5.729800e+10               NaN\n",
      "14  0000320193-24-000069                   ContractWithCustomerLiabilityCurrent  us-gaap/2023   BS       4    20     USD         0      0      8.012000e+09               NaN\n",
      "15  0000320193-24-000069                                        CommercialPaper  us-gaap/2023   BS       4    21     USD         0      0      1.997000e+09               NaN\n",
      "16  0000320193-24-000069                                    LongTermDebtCurrent  us-gaap/2023   BS       4    22     USD         0      0      1.076200e+10               NaN\n",
      "17  0000320193-24-000069                                     LiabilitiesCurrent  us-gaap/2023   BS       4    23     USD         0      0      1.238220e+11               NaN\n",
      "18  0000320193-24-000069                                 LongTermDebtNoncurrent  us-gaap/2023   BS       4    25     USD         0      0      9.183100e+10               NaN\n",
      "19  0000320193-24-000069                             OtherLiabilitiesNoncurrent  us-gaap/2023   BS       4    26     USD         0      0      4.756400e+10               NaN\n",
      "20  0000320193-24-000069                                  LiabilitiesNoncurrent  us-gaap/2023   BS       4    27     USD         0      0      1.393950e+11               NaN\n",
      "21  0000320193-24-000069                                            Liabilities  us-gaap/2023   BS       4    28     USD         0      0      2.632170e+11               NaN\n",
      "22  0000320193-24-000069           CommonStocksIncludingAdditionalPaidInCapital  us-gaap/2023   BS       4    31     USD         0      0      7.881500e+10               NaN\n",
      "23  0000320193-24-000069                     RetainedEarningsAccumulatedDeficit  us-gaap/2023   BS       4    32     USD         0      0      4.339000e+09               NaN\n",
      "24  0000320193-24-000069        AccumulatedOtherComprehensiveIncomeLossNetOfTax  us-gaap/2023   BS       4    33     USD         0      0     -8.960000e+09               NaN\n",
      "25  0000320193-24-000069                                     StockholdersEquity  us-gaap/2023   BS       4    34     USD         0      0      7.419400e+10      6.215800e+10\n",
      "26  0000320193-24-000069                       LiabilitiesAndStockholdersEquity  us-gaap/2023   BS       4    35     USD         0      0      3.374110e+11               NaN\n",
      "27  0000320193-24-000069                    CommonStockParOrStatedValuePerShare  us-gaap/2023   BS       5     1     USD         0      1      0.000000e+00               NaN\n",
      "28  0000320193-24-000069                            CommonStockSharesAuthorized  us-gaap/2023   BS       5     2  shares         0      1      5.040000e+10               NaN\n",
      "29  0000320193-24-000069                                CommonStockSharesIssued  us-gaap/2023   BS       5     3  shares         0      1      1.533769e+10               NaN\n",
      "30  0000320193-24-000069                           CommonStockSharesOutstanding  us-gaap/2023   BS       5     4  shares         0      1      1.533769e+10               NaN\n"
     ]
    }
   ],
   "execution_count": 36
  },
  {
   "metadata": {},
   "cell_type": "markdown",
   "source": "",
   "id": "6b2102eba0669fb8"
  },
  {
   "metadata": {
    "ExecuteTime": {
     "end_time": "2024-10-01T16:42:54.163299Z",
     "start_time": "2024-10-01T16:42:53.958958Z"
    }
   },
   "cell_type": "code",
   "source": [
    "adsh_8k = \"0001140361-24-010155\"\n",
    "# us a Collector to grab the data of the 10-K report. an filter for balancesheet information\n",
    "collector: SingleReportCollector = SingleReportCollector.get_report_by_adsh(\n",
    "      adsh=adsh_8k,\n",
    ")  \n",
    "rawdatabag = collector.collect() # load the data from the disk\n",
    "\n",
    "\n",
    "bs_df = (rawdatabag\n",
    "                   # ensure only data from the period (2022) and the previous period (2021) is in the data\n",
    "                   .filter(ReportPeriodAndPreviousPeriodRawFilter())\n",
    "                   # join the the content of the pre_txt and num_txt together\n",
    "                   .join()  \n",
    "                   # format the data in the same way as it appears in the report\n",
    "                   .present(StandardStatementPresenter())) \n",
    "print(bs_df) "
   ],
   "id": "b25f31dcb2c8eeee",
   "outputs": [
    {
     "name": "stderr",
     "output_type": "stream",
     "text": [
      "2024-10-01 12:42:53,961 [INFO] configmgt  reading configuration from /Users/joseluistejada/.secfsdstools.cfg\n"
     ]
    },
    {
     "name": "stdout",
     "output_type": "stream",
     "text": [
      "Empty DataFrame\n",
      "Columns: [adsh, coreg, tag, version, stmt, report, line, uom, negating, inpth]\n",
      "Index: []\n"
     ]
    }
   ],
   "execution_count": 38
  },
  {
   "metadata": {},
   "cell_type": "code",
   "outputs": [],
   "execution_count": null,
   "source": "",
   "id": "3bc0632cc6740df6"
  }
 ],
 "metadata": {
  "kernelspec": {
   "display_name": "Python 3",
   "language": "python",
   "name": "python3"
  },
  "language_info": {
   "codemirror_mode": {
    "name": "ipython",
    "version": 2
   },
   "file_extension": ".py",
   "mimetype": "text/x-python",
   "name": "python",
   "nbconvert_exporter": "python",
   "pygments_lexer": "ipython2",
   "version": "2.7.6"
  }
 },
 "nbformat": 4,
 "nbformat_minor": 5
}
