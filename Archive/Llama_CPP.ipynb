{
 "cells": [
  {
   "metadata": {
    "ExecuteTime": {
     "end_time": "2024-12-08T02:22:16.091104Z",
     "start_time": "2024-12-08T02:22:16.086695Z"
    }
   },
   "cell_type": "code",
   "source": [
    "import os\n",
    "os.environ['CMAKE_ARGS'] = \"-DLLAMA_METAL=on\""
   ],
   "id": "35b064ba9e8025a",
   "outputs": [],
   "execution_count": 1
  },
  {
   "metadata": {},
   "cell_type": "code",
   "outputs": [],
   "execution_count": null,
   "source": [
    "from llama_cpp import Llama\n",
    "\n",
    "llm = Llama.from_pretrained(\n",
    "\trepo_id=\"QuantFactory/Llama-3-8B-Instruct-Finance-RAG-GGUF\",\n",
    "\tfilename=\"Llama-3-8B-Instruct-Finance-RAG.Q2_K.gguf\",\n",
    ")\n",
    "\n",
    "llm.create_chat_completion(\n",
    "\tmessages = [\n",
    "\t\t{\n",
    "\t\t\t\"role\": \"user\",\n",
    "\t\t\t\"content\": \"What is the capital of France?\"\n",
    "\t\t}\n",
    "\t]\n",
    ")\n"
   ],
   "id": "34909fd0b5f269a8"
  },
  {
   "cell_type": "code",
   "id": "initial_id",
   "metadata": {
    "collapsed": true,
    "ExecuteTime": {
     "end_time": "2024-12-08T02:32:54.531709Z",
     "start_time": "2024-12-08T02:32:54.123861Z"
    }
   },
   "source": [
    "from llama_cpp import Llama\n",
    "\n",
    "# Initialize the model\n",
    "llm = Llama(\n",
    "    model_path=\"path/to/your/model.gguf\",  # Update with your model path\n",
    "    n_ctx=2048,  # Context window\n",
    "    n_threads=4  # Number of CPU threads to use\n",
    ")\n",
    "\n",
    "# Generate text\n",
    "output = llm(\n",
    "    \"What is machine learning?\",\n",
    "    max_tokens=256,\n",
    "    temperature=0.7,\n",
    "    stop=[\"Human:\", \"\\n\"]\n",
    ")\n",
    "\n",
    "print(output['choices'][0]['text'])"
   ],
   "outputs": [
    {
     "ename": "AttributeError",
     "evalue": "type object 'Llama' has no attribute 'from_pretrained'",
     "output_type": "error",
     "traceback": [
      "\u001B[0;31m---------------------------------------------------------------------------\u001B[0m",
      "\u001B[0;31mAttributeError\u001B[0m                            Traceback (most recent call last)",
      "Cell \u001B[0;32mIn[2], line 5\u001B[0m\n\u001B[1;32m      1\u001B[0m \u001B[38;5;28;01mfrom\u001B[39;00m \u001B[38;5;21;01mllama_cpp\u001B[39;00m \u001B[38;5;28;01mimport\u001B[39;00m Llama\n\u001B[1;32m      3\u001B[0m \u001B[38;5;66;03m# Initialize the model\u001B[39;00m\n\u001B[0;32m----> 5\u001B[0m llm \u001B[38;5;241m=\u001B[39m \u001B[43mLlama\u001B[49m\u001B[38;5;241;43m.\u001B[39;49m\u001B[43mfrom_pretrained\u001B[49m(\n\u001B[1;32m      6\u001B[0m \trepo_id\u001B[38;5;241m=\u001B[39m\u001B[38;5;124m\"\u001B[39m\u001B[38;5;124mQuantFactory/Llama-3-8B-Instruct-Finance-RAG-GGUF\u001B[39m\u001B[38;5;124m\"\u001B[39m,\n\u001B[1;32m      7\u001B[0m \tfilename\u001B[38;5;241m=\u001B[39m\u001B[38;5;124m\"\u001B[39m\u001B[38;5;124mLlama-3-8B-Instruct-Finance-RAG.Q2_K.gguf\u001B[39m\u001B[38;5;124m\"\u001B[39m,\n\u001B[1;32m      8\u001B[0m )\n\u001B[1;32m     10\u001B[0m \u001B[38;5;66;03m# Generate text\u001B[39;00m\n\u001B[1;32m     11\u001B[0m llm\u001B[38;5;241m.\u001B[39mcreate_chat_completion(\n\u001B[1;32m     12\u001B[0m \tmessages \u001B[38;5;241m=\u001B[39m [\n\u001B[1;32m     13\u001B[0m \t\t{\n\u001B[0;32m   (...)\u001B[0m\n\u001B[1;32m     17\u001B[0m \t]\n\u001B[1;32m     18\u001B[0m )\n",
      "\u001B[0;31mAttributeError\u001B[0m: type object 'Llama' has no attribute 'from_pretrained'"
     ]
    }
   ],
   "execution_count": 2
  }
 ],
 "metadata": {
  "kernelspec": {
   "display_name": "Python 3",
   "language": "python",
   "name": "python3"
  },
  "language_info": {
   "codemirror_mode": {
    "name": "ipython",
    "version": 2
   },
   "file_extension": ".py",
   "mimetype": "text/x-python",
   "name": "python",
   "nbconvert_exporter": "python",
   "pygments_lexer": "ipython2",
   "version": "2.7.6"
  }
 },
 "nbformat": 4,
 "nbformat_minor": 5
}
